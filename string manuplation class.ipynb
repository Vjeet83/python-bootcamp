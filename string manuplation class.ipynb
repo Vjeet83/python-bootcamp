{
 "cells": [
  {
   "cell_type": "markdown",
   "id": "bbf75b6b",
   "metadata": {},
   "source": [
    "#### string manuplations"
   ]
  },
  {
   "cell_type": "code",
   "execution_count": 3,
   "id": "15cd7c51",
   "metadata": {},
   "outputs": [
    {
     "data": {
      "text/plain": [
       "['__add__',\n",
       " '__class__',\n",
       " '__contains__',\n",
       " '__delattr__',\n",
       " '__dir__',\n",
       " '__doc__',\n",
       " '__eq__',\n",
       " '__format__',\n",
       " '__ge__',\n",
       " '__getattribute__',\n",
       " '__getitem__',\n",
       " '__getnewargs__',\n",
       " '__gt__',\n",
       " '__hash__',\n",
       " '__init__',\n",
       " '__init_subclass__',\n",
       " '__iter__',\n",
       " '__le__',\n",
       " '__len__',\n",
       " '__lt__',\n",
       " '__mod__',\n",
       " '__mul__',\n",
       " '__ne__',\n",
       " '__new__',\n",
       " '__reduce__',\n",
       " '__reduce_ex__',\n",
       " '__repr__',\n",
       " '__rmod__',\n",
       " '__rmul__',\n",
       " '__setattr__',\n",
       " '__sizeof__',\n",
       " '__str__',\n",
       " '__subclasshook__',\n",
       " 'capitalize',\n",
       " 'casefold',\n",
       " 'center',\n",
       " 'count',\n",
       " 'encode',\n",
       " 'endswith',\n",
       " 'expandtabs',\n",
       " 'find',\n",
       " 'format',\n",
       " 'format_map',\n",
       " 'index',\n",
       " 'isalnum',\n",
       " 'isalpha',\n",
       " 'isascii',\n",
       " 'isdecimal',\n",
       " 'isdigit',\n",
       " 'isidentifier',\n",
       " 'islower',\n",
       " 'isnumeric',\n",
       " 'isprintable',\n",
       " 'isspace',\n",
       " 'istitle',\n",
       " 'isupper',\n",
       " 'join',\n",
       " 'ljust',\n",
       " 'lower',\n",
       " 'lstrip',\n",
       " 'maketrans',\n",
       " 'partition',\n",
       " 'removeprefix',\n",
       " 'removesuffix',\n",
       " 'replace',\n",
       " 'rfind',\n",
       " 'rindex',\n",
       " 'rjust',\n",
       " 'rpartition',\n",
       " 'rsplit',\n",
       " 'rstrip',\n",
       " 'split',\n",
       " 'splitlines',\n",
       " 'startswith',\n",
       " 'strip',\n",
       " 'swapcase',\n",
       " 'title',\n",
       " 'translate',\n",
       " 'upper',\n",
       " 'zfill']"
      ]
     },
     "execution_count": 3,
     "metadata": {},
     "output_type": "execute_result"
    }
   ],
   "source": [
    "# string format\n",
    "# is string itrable or iterator\n",
    "\n",
    "# itrable => Loop execute ho sakta hai \n",
    "# iter method acailable hoge \n",
    "# iterator protocol ka use karke => humare individual \n",
    "\n",
    "dir(\"hey\")"
   ]
  },
  {
   "cell_type": "code",
   "execution_count": 7,
   "id": "b48a922f",
   "metadata": {},
   "outputs": [
    {
     "name": "stdout",
     "output_type": "stream",
     "text": [
      "Enter string :djhdfjhs fadsfljsdhfkdjf fdf\n",
      "d\n",
      "j\n",
      "h\n",
      "d\n",
      "f\n",
      "j\n",
      "h\n",
      "s\n",
      " \n",
      "f\n",
      "a\n",
      "d\n",
      "s\n",
      "f\n",
      "l\n",
      "j\n",
      "s\n",
      "d\n",
      "h\n",
      "f\n",
      "k\n",
      "d\n",
      "j\n",
      "f\n",
      " \n",
      "f\n",
      "d\n",
      "f\n",
      "28\n"
     ]
    }
   ],
   "source": [
    "x = input(\"Enter string :\")\n",
    "count=0\n",
    "for i in x:\n",
    "    count+=1\n",
    "    print(i)\n",
    "    \n",
    "print(count)"
   ]
  },
  {
   "cell_type": "code",
   "execution_count": 8,
   "id": "68aaeab2",
   "metadata": {},
   "outputs": [
    {
     "name": "stdout",
     "output_type": "stream",
     "text": [
      "Enter string :dfjh skdjfh ksjdfh  skdjfh \n",
      "dfjh\n",
      "skdjfh\n",
      "ksjdfh\n",
      "\n",
      "skdjfh\n",
      "\n",
      "6\n"
     ]
    }
   ],
   "source": [
    "x = input(\"Enter string :\")\n",
    "count=0\n",
    "for i in x.split(\" \"):\n",
    "    count+=1\n",
    "    print(i)\n",
    "    \n",
    "print(count)\n",
    "\n",
    "# split karne k bad  return result list me hota h"
   ]
  },
  {
   "cell_type": "code",
   "execution_count": 10,
   "id": "1804151c",
   "metadata": {},
   "outputs": [
    {
     "name": "stdout",
     "output_type": "stream",
     "text": [
      "not\n"
     ]
    }
   ],
   "source": [
    "x= \"abc\"\n",
    "x[::-1]\n",
    "if(x==x[::-1]):\n",
    "    print(\"palandrome\")\n",
    "    \n",
    "else :\n",
    "    print(\"not\")"
   ]
  },
  {
   "cell_type": "code",
   "execution_count": 20,
   "id": "a9989b0f",
   "metadata": {},
   "outputs": [
    {
     "name": "stdout",
     "output_type": "stream",
     "text": [
      "rojas\n",
      "it is not a palandrome \n"
     ]
    }
   ],
   "source": [
    "def palindrom_check(data):\n",
    "\n",
    "    med=(len(data)-1)//2\n",
    "    start =0\n",
    "    last=len(data) -1\n",
    "    flag=0\n",
    "    \n",
    "    while(start <=  med):\n",
    "        \n",
    "        if (data[start] == data[last]):\n",
    "            start +=1\n",
    "            last  -=1\n",
    "        else:\n",
    "            flag=1\n",
    "            break\n",
    "            \n",
    "    if flag ==0:\n",
    "        print(\"it is a palandrome string\")\n",
    "        \n",
    "    else:\n",
    "        print(\"it is not a palandrome \")\n",
    "        \n",
    "    \n",
    "palindrom_check(input())\n",
    "    "
   ]
  },
  {
   "cell_type": "code",
   "execution_count": null,
   "id": "a9ab2adf",
   "metadata": {},
   "outputs": [],
   "source": []
  },
  {
   "cell_type": "code",
   "execution_count": 46,
   "id": "1437f4f8",
   "metadata": {},
   "outputs": [
    {
     "name": "stdout",
     "output_type": "stream",
     "text": [
      "abcdeabcde\n",
      "string is symmetric\n"
     ]
    }
   ],
   "source": [
    "# code of tusar sir\n",
    "def symmetric(data):\n",
    "    n=len(data)\n",
    "    start =0\n",
    "    flag =0\n",
    "    last=n-1\n",
    "    \n",
    "    if n%2:\n",
    "        mid=n//2+1\n",
    "    else:\n",
    "        mid=n//2\n",
    "        \n",
    "    while(start<mid  and mid<last):\n",
    "        if(data[start]==data[mid]):\n",
    "            start+=1\n",
    "            mid+=1\n",
    "            \n",
    "        else:\n",
    "            flag=1\n",
    "            break\n",
    "            \n",
    "    if(flag==0):\n",
    "        print(\"string is symmetric\")\n",
    "    else:\n",
    "        print(\"string is  Asymmetric\")\n",
    "        \n",
    "        \n",
    "symmetric(input())"
   ]
  },
  {
   "cell_type": "code",
   "execution_count": 30,
   "id": "4a7da43a",
   "metadata": {},
   "outputs": [
    {
     "name": "stdout",
     "output_type": "stream",
     "text": [
      "<class 'list'>\n",
      "['a', 'i', 'e', 'o', 'u']\n",
      "\n",
      "not\n"
     ]
    }
   ],
   "source": [
    "# ceck wether any string all the vovels or not :\n",
    "def vovel_check(data):\n",
    "    data= data.lower()\n",
    "    lst = []\n",
    "    vovel = [\"a\",\"e\",\"i\",\"o\",\"u\"]\n",
    "    i=0\n",
    "    while(i<len(data)):\n",
    "        if data[i] in vovel:\n",
    "            if data[i] not in lst:\n",
    "                lst.append(data[i])\n",
    "        i+=1\n",
    "            \n",
    "    print(type(lst))\n",
    "    print(lst)\n",
    "    print()\n",
    "    \n",
    "    if vovel in lst:\n",
    "        print(\"yes\")\n",
    "    else:\n",
    "        print(\"not\")\n",
    "    \n",
    "    \n",
    "vovel_check(\"asdfjklicieou\")\n",
    "    "
   ]
  },
  {
   "cell_type": "code",
   "execution_count": 1,
   "id": "61478788",
   "metadata": {},
   "outputs": [
    {
     "name": "stdout",
     "output_type": "stream",
     "text": [
      "ASDF DFKL\n",
      "asdf dfkl\n"
     ]
    }
   ],
   "source": [
    "data = input()\n",
    "print(data.lower())"
   ]
  },
  {
   "cell_type": "code",
   "execution_count": null,
   "id": "d5dab75b",
   "metadata": {},
   "outputs": [],
   "source": []
  },
  {
   "cell_type": "code",
   "execution_count": 34,
   "id": "8bd80aab",
   "metadata": {},
   "outputs": [],
   "source": [
    "# Question\n",
    "# 1  min frequence \n",
    "# 2  max  frequent character \n",
    "# 3  to convert  first half into uppercase           \n",
    "#4 take a input from the user and find that string is valid url or not\n",
    "# 5 take a input from user and check how many time that substring is present is string\n",
    "#  "
   ]
  },
  {
   "cell_type": "code",
   "execution_count": 1,
   "id": "7b8b6d22",
   "metadata": {},
   "outputs": [
    {
     "name": "stdout",
     "output_type": "stream",
     "text": [
      "asfgasgfasfg\n",
      "{'a': 3, 's': 3, 'f': 3, 'g': 3}\n",
      "3\n"
     ]
    }
   ],
   "source": [
    "# Q) # 1  min frequence \n",
    "\n",
    "def min_ctr(data):\n",
    "    mdict ={}\n",
    "    for i in data:\n",
    "        if i not in mdict:\n",
    "            mdict[i]=1\n",
    "        else:\n",
    "            mdict[i]+=1\n",
    "    \n",
    "    print(mdict)\n",
    "    print(min(mdict.values()))\n",
    "min_ctr(str(input()))"
   ]
  },
  {
   "cell_type": "code",
   "execution_count": 3,
   "id": "3743ef75",
   "metadata": {},
   "outputs": [
    {
     "name": "stdout",
     "output_type": "stream",
     "text": [
      "in given sentense maximum char is ['s'] \n",
      " and its frequency is 5\n"
     ]
    }
   ],
   "source": [
    "# Q2)  max  frequent character \n",
    "\n",
    "def max_freq(data):\n",
    "    mdict ={}\n",
    "    for i in data:\n",
    "        if i not in mdict:\n",
    "            mdict[i] = 1\n",
    "        else:\n",
    "            mdict[i] +=1\n",
    "    max_valu = max(mdict.values())\n",
    "    max_char = [char for char ,valu in mdict.items()  if valu == max_valu]\n",
    "    print(f\"in given sentense maximum char is {max_char} \\n and its frequency is {max_valu}\")\n",
    "max_freq(\"asdf;ldrfskjhgsnuss\")"
   ]
  },
  {
   "cell_type": "code",
   "execution_count": 20,
   "id": "4f800b93",
   "metadata": {},
   "outputs": [
    {
     "name": "stdout",
     "output_type": "stream",
     "text": [
      "In the given sentence, the character(s) with maximum frequency is/are ['s'] with a frequency of 5\n"
     ]
    }
   ],
   "source": [
    "def max_freq(data):\n",
    "    char_count = {}\n",
    "    for char in data: \n",
    "        char_count[char] = char_count.get(char, 0) + 1\n",
    "    \n",
    "    max_val = max(char_count.values())\n",
    "    max_chars = [char for char, freq in char_count.items() if freq == max_val]\n",
    "    \n",
    "    print(f\"In the given sentence, the character(s) with maximum frequency is/are {max_chars} with a frequency of {max_val}\")\n",
    "\n",
    "max_freq(\"asdf;ldrfskjhgsnuss\")\n"
   ]
  },
  {
   "cell_type": "code",
   "execution_count": 36,
   "id": "40d9753c",
   "metadata": {},
   "outputs": [
    {
     "name": "stdout",
     "output_type": "stream",
     "text": [
      "ABCDEFGHijklmnop\n"
     ]
    }
   ],
   "source": [
    "# Q 3 ) \n",
    "def upper_chang(data):\n",
    "    mid = len(data)//2-1\n",
    "    y=\"\"\n",
    "    for i in range(0,len(data)):\n",
    "        if i<= mid:\n",
    "            y= y+data[i].upper()\n",
    "        else:\n",
    "            y=y+data[i]\n",
    "            \n",
    "    print(y)\n",
    "        \n",
    "upper_chang('abcdefghijklmnop')"
   ]
  },
  {
   "cell_type": "code",
   "execution_count": 40,
   "id": "eb94040c",
   "metadata": {},
   "outputs": [],
   "source": [
    "import re"
   ]
  },
  {
   "cell_type": "code",
   "execution_count": 45,
   "id": "fc6385c1",
   "metadata": {},
   "outputs": [
    {
     "name": "stdout",
     "output_type": "stream",
     "text": [
      "url is valid\n"
     ]
    }
   ],
   "source": [
    "#4 take a input from the user and find that string is valid url or not\n",
    "def url_check(data):\n",
    "    data=data.lower()    \n",
    "    check=True\n",
    "    x=re.search(\"^WWW.|www.\",data)\n",
    "    y=re.search(\".com|.in|.xyz$\",data)\n",
    "    if x and y:\n",
    "        print(\"url is valid\")\n",
    "    else:\n",
    "        print(\"url is not valid\")\n",
    "    \n",
    "url_check(\"WWw.asdf.com\")"
   ]
  },
  {
   "cell_type": "code",
   "execution_count": null,
   "id": "5ab86235",
   "metadata": {},
   "outputs": [],
   "source": []
  },
  {
   "cell_type": "code",
   "execution_count": 55,
   "id": "775faba6",
   "metadata": {},
   "outputs": [
    {
     "name": "stdout",
     "output_type": "stream",
     "text": [
      "www.example.com is a valid URL.\n",
      "www.test.org is a valid URL.\n",
      "https://www.invalid-url.org is not a valid URL.\n",
      "www.invalid-url.xyz is not a valid URL.\n",
      "example.com is not a valid URL.\n",
      "www.example is not a valid URL.\n"
     ]
    }
   ],
   "source": [
    "import re\n",
    "\n",
    "def is_valid_url(url):\n",
    "    url = url.lower()  # Convert to lowercase for case-insensitive matching\n",
    "    # Regular expressions to check conditions\n",
    "    start_with_www = re.match(r'^www\\.', url)\n",
    "    end_with_valid_extension = re.search(r'\\.(com|in|org)$', url)\n",
    "\n",
    "    if start_with_www and end_with_valid_extension:\n",
    "        return True\n",
    "    else:\n",
    "        return False\n",
    "\n",
    "# Test the function with different URLs\n",
    "urls_to_test = [\n",
    "    \"www.example.com\",\n",
    "    \"www.test.org\",\n",
    "    \"https://www.invalid-url.org\",\n",
    "    \"www.invalid-url.xyz\",\n",
    "    \"example.com\",\n",
    "    \"www.example\",\n",
    "]\n",
    "\n",
    "for url in urls_to_test:\n",
    "    if is_valid_url(url):\n",
    "        print(f\"{url} is a valid URL.\")\n",
    "    else:\n",
    "        print(f\"{url} is not a valid URL.\")\n"
   ]
  },
  {
   "cell_type": "code",
   "execution_count": null,
   "id": "4e7fcb4e",
   "metadata": {},
   "outputs": [],
   "source": []
  },
  {
   "cell_type": "code",
   "execution_count": 71,
   "id": "f53a5bf8",
   "metadata": {},
   "outputs": [
    {
     "name": "stdout",
     "output_type": "stream",
     "text": [
      "input a string     :gklhfjlds alsdkjfhsaldkfjh as\n",
      "input a substr     :as\n"
     ]
    },
    {
     "data": {
      "text/plain": [
       "1"
      ]
     },
     "execution_count": 71,
     "metadata": {},
     "output_type": "execute_result"
    }
   ],
   "source": [
    "#  5) take a input from user and check how many time that substring is present is string\n",
    "def sub_string(data,sub):\n",
    "    count= data.count(sub)\n",
    "    return(count)\n",
    "\n",
    "data = input(\"input a string     :\")\n",
    "sub= input(\"input a substr     :\")\n",
    "\n",
    "sub_string(data,sub)\n",
    "    "
   ]
  },
  {
   "cell_type": "code",
   "execution_count": null,
   "id": "eb4093d1",
   "metadata": {},
   "outputs": [],
   "source": []
  },
  {
   "cell_type": "code",
   "execution_count": null,
   "id": "c4b0faf7",
   "metadata": {},
   "outputs": [],
   "source": []
  },
  {
   "cell_type": "code",
   "execution_count": 4,
   "id": "cbe6984b",
   "metadata": {},
   "outputs": [
    {
     "name": "stdout",
     "output_type": "stream",
     "text": [
      "7\n",
      "\n",
      "* * * * * * * * \n",
      "  *           * \n",
      "    *         * \n",
      "      *       * \n",
      "        *     * \n",
      "          *   * \n",
      "            * * \n",
      "              * "
     ]
    }
   ],
   "source": [
    "# Q4)\n",
    "line= int(input())\n",
    "for i in range(0,line+1):\n",
    "    print()\n",
    "    for j in range(0,i):\n",
    "        print(\" \",end=\" \")\n",
    "    for k in range(0,line-i+1):\n",
    "        if (i==0 or k==0 or k==line-i):\n",
    "            print(\"*\",end=' ')\n",
    "        else:\n",
    "            print(\" \",end=' ')"
   ]
  },
  {
   "cell_type": "code",
   "execution_count": 36,
   "id": "74d7d4e4",
   "metadata": {},
   "outputs": [
    {
     "name": "stdout",
     "output_type": "stream",
     "text": [
      "\n",
      "            0\n",
      "              \n",
      "            1\n",
      "            * \n",
      "            2\n",
      "          * * \n",
      "            3\n",
      "        * * * \n",
      "            4\n",
      "      * * * * \n",
      "            5\n",
      "    * * * * * \n",
      "            6\n",
      "  * * * * * * "
     ]
    }
   ],
   "source": [
    "for i in range(0,line):\n",
    "    print()\n",
    "    [print(\" \",end=' ') for i in range(0,line-1)]\n",
    "    print(i)\n",
    "    for j in range(0,line-i):\n",
    "        print(\" \",end=\" \")\n",
    "    for k in range(0,i):\n",
    "        print(\"*\",end=\" \")"
   ]
  },
  {
   "cell_type": "code",
   "execution_count": null,
   "id": "f8fbefc2",
   "metadata": {},
   "outputs": [],
   "source": []
  },
  {
   "cell_type": "code",
   "execution_count": 60,
   "id": "9c62bba8",
   "metadata": {},
   "outputs": [
    {
     "ename": "SyntaxError",
     "evalue": "incomplete input (3838440134.py, line 5)",
     "output_type": "error",
     "traceback": [
      "\u001b[1;36m  Cell \u001b[1;32mIn[60], line 5\u001b[1;36m\u001b[0m\n\u001b[1;33m    \u001b[0m\n\u001b[1;37m    ^\u001b[0m\n\u001b[1;31mSyntaxError\u001b[0m\u001b[1;31m:\u001b[0m incomplete input\n"
     ]
    }
   ],
   "source": [
    "line=7\n",
    "for i in range (0 ,line ):\n",
    "    for j in range(0,line):\n",
    "#         print(i,j)\n",
    "        "
   ]
  },
  {
   "cell_type": "code",
   "execution_count": 67,
   "id": "e18a977f",
   "metadata": {},
   "outputs": [
    {
     "name": "stdout",
     "output_type": "stream",
     "text": [
      "\n",
      "       \n",
      "      #\n",
      "     ##\n",
      "    ###\n",
      "   ####\n",
      "  #####\n",
      " ######"
     ]
    }
   ],
   "source": [
    "for i in range(0 ,line):\n",
    "    print()\n",
    "    for j in range(0,line-i):\n",
    "        print(\" \",end=\"\")\n",
    "    for k in range(0,i):\n",
    "        print(\"#\",end=\"\")\n",
    "        "
   ]
  },
  {
   "cell_type": "code",
   "execution_count": null,
   "id": "1ecbc5ce",
   "metadata": {},
   "outputs": [],
   "source": []
  },
  {
   "cell_type": "code",
   "execution_count": null,
   "id": "bb182b15",
   "metadata": {},
   "outputs": [],
   "source": []
  }
 ],
 "metadata": {
  "kernelspec": {
   "display_name": "Python 3 (ipykernel)",
   "language": "python",
   "name": "python3"
  },
  "language_info": {
   "codemirror_mode": {
    "name": "ipython",
    "version": 3
   },
   "file_extension": ".py",
   "mimetype": "text/x-python",
   "name": "python",
   "nbconvert_exporter": "python",
   "pygments_lexer": "ipython3",
   "version": "3.10.9"
  }
 },
 "nbformat": 4,
 "nbformat_minor": 5
}
