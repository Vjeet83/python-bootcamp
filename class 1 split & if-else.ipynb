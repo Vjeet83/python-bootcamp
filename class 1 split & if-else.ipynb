{
 "cells": [
  {
   "cell_type": "code",
   "execution_count": 1,
   "id": "aaad6578",
   "metadata": {},
   "outputs": [],
   "source": [
    "# what is python\n",
    "# dinamic\n",
    "# functional then oops\n",
    "# robust ,general purpose\n",
    "# interpreted programing\n"
   ]
  },
  {
   "cell_type": "code",
   "execution_count": 2,
   "id": "e1c9d848",
   "metadata": {},
   "outputs": [
    {
     "name": "stdout",
     "output_type": "stream",
     "text": [
      "<class 'int'>\n"
     ]
    }
   ],
   "source": [
    "x=10 \n",
    "print(type(x))\n",
    "# class => classes & object"
   ]
  },
  {
   "cell_type": "code",
   "execution_count": 3,
   "id": "6a59e45f",
   "metadata": {},
   "outputs": [
    {
     "data": {
      "text/plain": [
       "14"
      ]
     },
     "execution_count": 3,
     "metadata": {},
     "output_type": "execute_result"
    }
   ],
   "source": [
    "#slicing and indexing\n",
    "# string  => collectipon of sequential char element\n",
    "# -1 => back slicing\n",
    "name = \"Regex Software\"\n",
    "len(name)"
   ]
  },
  {
   "cell_type": "code",
   "execution_count": 4,
   "id": "e3476ac3",
   "metadata": {},
   "outputs": [
    {
     "data": {
      "text/plain": [
       "'R'"
      ]
     },
     "execution_count": 4,
     "metadata": {},
     "output_type": "execute_result"
    }
   ],
   "source": [
    "name[0]"
   ]
  },
  {
   "cell_type": "code",
   "execution_count": 5,
   "id": "29d9018d",
   "metadata": {},
   "outputs": [
    {
     "data": {
      "text/plain": [
       "'r'"
      ]
     },
     "execution_count": 5,
     "metadata": {},
     "output_type": "execute_result"
    }
   ],
   "source": [
    "name[-2]"
   ]
  },
  {
   "cell_type": "code",
   "execution_count": 6,
   "id": "402c43f3",
   "metadata": {},
   "outputs": [
    {
     "data": {
      "text/plain": [
       "'ege'"
      ]
     },
     "execution_count": 6,
     "metadata": {},
     "output_type": "execute_result"
    }
   ],
   "source": [
    "# slicing => extracting some portio of data based on index position\n",
    "# [start : stop : [step=1]]\n",
    "name[1:4]"
   ]
  },
  {
   "cell_type": "code",
   "execution_count": 7,
   "id": "62250fc1",
   "metadata": {},
   "outputs": [
    {
     "data": {
      "text/plain": [
       "'Regex'"
      ]
     },
     "execution_count": 7,
     "metadata": {},
     "output_type": "execute_result"
    }
   ],
   "source": [
    "name[:5]"
   ]
  },
  {
   "cell_type": "code",
   "execution_count": 8,
   "id": "39106262",
   "metadata": {},
   "outputs": [
    {
     "data": {
      "text/plain": [
       "'RgxS'"
      ]
     },
     "execution_count": 8,
     "metadata": {},
     "output_type": "execute_result"
    }
   ],
   "source": [
    "name[:8:2]"
   ]
  },
  {
   "cell_type": "code",
   "execution_count": 9,
   "id": "922ab1f4",
   "metadata": {},
   "outputs": [
    {
     "data": {
      "text/plain": [
       "''"
      ]
     },
     "execution_count": 9,
     "metadata": {},
     "output_type": "execute_result"
    }
   ],
   "source": [
    "name[-1:-3]\n",
    "#bcz step size =1 bydefault"
   ]
  },
  {
   "cell_type": "code",
   "execution_count": 10,
   "id": "9699293f",
   "metadata": {},
   "outputs": [
    {
     "data": {
      "text/plain": [
       "'er'"
      ]
     },
     "execution_count": 10,
     "metadata": {},
     "output_type": "execute_result"
    }
   ],
   "source": [
    "name[-1:-3:-1]"
   ]
  },
  {
   "cell_type": "code",
   "execution_count": 11,
   "id": "29a66857",
   "metadata": {},
   "outputs": [],
   "source": [
    "# oprators\n",
    "## "
   ]
  },
  {
   "cell_type": "code",
   "execution_count": 12,
   "id": "96c2619e",
   "metadata": {},
   "outputs": [
    {
     "data": {
      "text/plain": [
       "5.0"
      ]
     },
     "execution_count": 12,
     "metadata": {},
     "output_type": "execute_result"
    }
   ],
   "source": [
    "10/2"
   ]
  },
  {
   "cell_type": "code",
   "execution_count": 13,
   "id": "b65fd6e8",
   "metadata": {},
   "outputs": [
    {
     "data": {
      "text/plain": [
       "5"
      ]
     },
     "execution_count": 13,
     "metadata": {},
     "output_type": "execute_result"
    }
   ],
   "source": [
    "10//2"
   ]
  },
  {
   "cell_type": "code",
   "execution_count": 14,
   "id": "1b0b6a23",
   "metadata": {},
   "outputs": [
    {
     "data": {
      "text/plain": [
       "7.0"
      ]
     },
     "execution_count": 14,
     "metadata": {},
     "output_type": "execute_result"
    }
   ],
   "source": [
    "10/2 +2"
   ]
  },
  {
   "cell_type": "code",
   "execution_count": 15,
   "id": "ca855577",
   "metadata": {},
   "outputs": [
    {
     "data": {
      "text/plain": [
       "7"
      ]
     },
     "execution_count": 15,
     "metadata": {},
     "output_type": "execute_result"
    }
   ],
   "source": [
    "10//2 +2"
   ]
  },
  {
   "cell_type": "code",
   "execution_count": 16,
   "id": "f9e3f964",
   "metadata": {},
   "outputs": [
    {
     "data": {
      "text/plain": [
       "0"
      ]
     },
     "execution_count": 16,
     "metadata": {},
     "output_type": "execute_result"
    }
   ],
   "source": [
    "12%3"
   ]
  },
  {
   "cell_type": "code",
   "execution_count": 17,
   "id": "7ce4d69d",
   "metadata": {},
   "outputs": [],
   "source": [
    "#logical oprator \n",
    "# and ,or, not \n",
    "\n"
   ]
  },
  {
   "cell_type": "code",
   "execution_count": 18,
   "id": "c7a422a8",
   "metadata": {},
   "outputs": [
    {
     "data": {
      "text/plain": [
       "False"
      ]
     },
     "execution_count": 18,
     "metadata": {},
     "output_type": "execute_result"
    }
   ],
   "source": [
    "# comparizer oprator( return boolean ans)\n",
    "x=10\n",
    "\n",
    "x>12"
   ]
  },
  {
   "cell_type": "code",
   "execution_count": 19,
   "id": "cc66cc8d",
   "metadata": {},
   "outputs": [
    {
     "data": {
      "text/plain": [
       "True"
      ]
     },
     "execution_count": 19,
     "metadata": {},
     "output_type": "execute_result"
    }
   ],
   "source": [
    "\n",
    "x<12"
   ]
  },
  {
   "cell_type": "code",
   "execution_count": 20,
   "id": "357ec77c",
   "metadata": {},
   "outputs": [
    {
     "data": {
      "text/plain": [
       "True"
      ]
     },
     "execution_count": 20,
     "metadata": {},
     "output_type": "execute_result"
    }
   ],
   "source": [
    "age = 50 \n",
    "age == 50"
   ]
  },
  {
   "cell_type": "code",
   "execution_count": 21,
   "id": "09acd4de",
   "metadata": {},
   "outputs": [
    {
     "data": {
      "text/plain": [
       "True"
      ]
     },
     "execution_count": 21,
     "metadata": {},
     "output_type": "execute_result"
    }
   ],
   "source": [
    "x>9 and age ==50"
   ]
  },
  {
   "cell_type": "code",
   "execution_count": 22,
   "id": "0026b190",
   "metadata": {},
   "outputs": [
    {
     "data": {
      "text/plain": [
       "False"
      ]
     },
     "execution_count": 22,
     "metadata": {},
     "output_type": "execute_result"
    }
   ],
   "source": [
    "x<9 and age ==50"
   ]
  },
  {
   "cell_type": "code",
   "execution_count": 23,
   "id": "896f3dd5",
   "metadata": {},
   "outputs": [
    {
     "data": {
      "text/plain": [
       "True"
      ]
     },
     "execution_count": 23,
     "metadata": {},
     "output_type": "execute_result"
    }
   ],
   "source": [
    "x<9 or age ==50"
   ]
  },
  {
   "cell_type": "code",
   "execution_count": 24,
   "id": "91f7a76e",
   "metadata": {},
   "outputs": [
    {
     "data": {
      "text/plain": [
       "True"
      ]
     },
     "execution_count": 24,
     "metadata": {},
     "output_type": "execute_result"
    }
   ],
   "source": [
    "y=10\n",
    "x>10 and age ==50 or y>9"
   ]
  },
  {
   "cell_type": "code",
   "execution_count": 25,
   "id": "261e08bf",
   "metadata": {},
   "outputs": [],
   "source": [
    "# conditional statement\n",
    "# if-else elif"
   ]
  },
  {
   "cell_type": "code",
   "execution_count": 26,
   "id": "cd4877ea",
   "metadata": {},
   "outputs": [
    {
     "name": "stdout",
     "output_type": "stream",
     "text": [
      "z is minimum\n"
     ]
    }
   ],
   "source": [
    "x =3 \n",
    "y=6\n",
    "z = 2\n",
    "w = 9\n",
    "\n",
    "if ( x<y and x<z and x<w):\n",
    "    print (\"x is minimum\")\n",
    "elif(y<x and y<z and y<w):\n",
    "    print(\"y is minimum\")\n",
    "elif(z<x and z<y and z<w):\n",
    "    print(\"z is minimum\")\n",
    "else :\n",
    "    print(\"w is minimum\")"
   ]
  },
  {
   "cell_type": "code",
   "execution_count": 31,
   "id": "9e63f286",
   "metadata": {},
   "outputs": [
    {
     "name": "stdout",
     "output_type": "stream",
     "text": [
      "153\n",
      "153\n",
      "1\n",
      "it is not\n"
     ]
    }
   ],
   "source": [
    "# armstrong number\n",
    "\n",
    "x =int(input()) \n",
    "y=(x%10)**3\n",
    "x=x//10\n",
    "# print(y)\n",
    "# print(x)\n",
    "y = y+ (x%10)**3\n",
    "x=x//10\n",
    "y=y+ (x%10)**3\n",
    "print(y)\n",
    "print(x)\n",
    "\n",
    "if (x == y):\n",
    "    print(\"it is armstrong number\")\n",
    "else :\n",
    "    print(\"it is not\")\n"
   ]
  },
  {
   "cell_type": "code",
   "execution_count": 36,
   "id": "0c9b712a",
   "metadata": {},
   "outputs": [
    {
     "name": "stdout",
     "output_type": "stream",
     "text": [
      "9758.571428571428\n",
      "1150000\n"
     ]
    }
   ],
   "source": [
    "# celecder whos radius is 3 cm and height is 345 cm\n",
    "# find the volume of cylinder\n",
    "# and the per volume of cylinder\n",
    "# calculate the per volume cost is 230\n",
    "\n",
    "R = 3 \n",
    "H = 345\n",
    "pi = 22/7\n",
    "volume = pi*R*R*H\n",
    "print(volume)\n",
    "P=230\n",
    "total_price = P*5*1000\n",
    "print(total_price)"
   ]
  },
  {
   "cell_type": "code",
   "execution_count": 37,
   "id": "99147586",
   "metadata": {},
   "outputs": [
    {
     "name": "stdout",
     "output_type": "stream",
     "text": [
      "a\n",
      "b\n",
      "c\n"
     ]
    }
   ],
   "source": [
    "# loops\n",
    "for x in \"abc\":\n",
    "    print(x)\n",
    "\n",
    "# itrable ,itrator "
   ]
  },
  {
   "cell_type": "code",
   "execution_count": 39,
   "id": "ab0699b6",
   "metadata": {},
   "outputs": [
    {
     "data": {
      "text/plain": [
       "['__add__',\n",
       " '__class__',\n",
       " '__contains__',\n",
       " '__delattr__',\n",
       " '__dir__',\n",
       " '__doc__',\n",
       " '__eq__',\n",
       " '__format__',\n",
       " '__ge__',\n",
       " '__getattribute__',\n",
       " '__getitem__',\n",
       " '__getnewargs__',\n",
       " '__gt__',\n",
       " '__hash__',\n",
       " '__init__',\n",
       " '__init_subclass__',\n",
       " '__iter__',\n",
       " '__le__',\n",
       " '__len__',\n",
       " '__lt__',\n",
       " '__mod__',\n",
       " '__mul__',\n",
       " '__ne__',\n",
       " '__new__',\n",
       " '__reduce__',\n",
       " '__reduce_ex__',\n",
       " '__repr__',\n",
       " '__rmod__',\n",
       " '__rmul__',\n",
       " '__setattr__',\n",
       " '__sizeof__',\n",
       " '__str__',\n",
       " '__subclasshook__',\n",
       " 'capitalize',\n",
       " 'casefold',\n",
       " 'center',\n",
       " 'count',\n",
       " 'encode',\n",
       " 'endswith',\n",
       " 'expandtabs',\n",
       " 'find',\n",
       " 'format',\n",
       " 'format_map',\n",
       " 'index',\n",
       " 'isalnum',\n",
       " 'isalpha',\n",
       " 'isascii',\n",
       " 'isdecimal',\n",
       " 'isdigit',\n",
       " 'isidentifier',\n",
       " 'islower',\n",
       " 'isnumeric',\n",
       " 'isprintable',\n",
       " 'isspace',\n",
       " 'istitle',\n",
       " 'isupper',\n",
       " 'join',\n",
       " 'ljust',\n",
       " 'lower',\n",
       " 'lstrip',\n",
       " 'maketrans',\n",
       " 'partition',\n",
       " 'removeprefix',\n",
       " 'removesuffix',\n",
       " 'replace',\n",
       " 'rfind',\n",
       " 'rindex',\n",
       " 'rjust',\n",
       " 'rpartition',\n",
       " 'rsplit',\n",
       " 'rstrip',\n",
       " 'split',\n",
       " 'splitlines',\n",
       " 'startswith',\n",
       " 'strip',\n",
       " 'swapcase',\n",
       " 'title',\n",
       " 'translate',\n",
       " 'upper',\n",
       " 'zfill']"
      ]
     },
     "execution_count": 39,
     "metadata": {},
     "output_type": "execute_result"
    }
   ],
   "source": [
    "dir(\"abc\")"
   ]
  },
  {
   "cell_type": "code",
   "execution_count": 1,
   "id": "cf8aab0c",
   "metadata": {},
   "outputs": [],
   "source": [
    "# break loop ke break karta h or uske bad likha condition process nhi hogi \n",
    "# continue b apne bad likhi conditioin ko skipp kar deta h pr loop break nahi larta "
   ]
  },
  {
   "cell_type": "code",
   "execution_count": 57,
   "id": "ddf536c5",
   "metadata": {},
   "outputs": [
    {
     "name": "stdout",
     "output_type": "stream",
     "text": [
      "0\n",
      "2\n",
      "4\n",
      "6\n",
      "8\n",
      "10\n",
      "12\n",
      "14\n",
      "16\n",
      "18\n",
      "20\n",
      "22\n",
      "24\n",
      "26\n",
      "28\n",
      "30\n",
      "32\n",
      "34\n",
      "36\n",
      "38\n",
      "40\n",
      "42\n",
      "44\n",
      "46\n",
      "48\n",
      "50\n",
      "52\n",
      "54\n",
      "56\n",
      "58\n",
      "60\n",
      "62\n",
      "64\n",
      "66\n",
      "68\n",
      "70\n",
      "72\n",
      "74\n",
      "76\n",
      "78\n",
      "80\n",
      "82\n",
      "84\n",
      "86\n",
      "88\n",
      "90\n",
      "92\n",
      "94\n",
      "96\n",
      "98\n",
      "100\n",
      "171700\n"
     ]
    }
   ],
   "source": [
    "# find out the sum of squire of first fifty  evewn natural number:\n",
    "\n",
    "sum_no =0\n",
    "for i in range(0,101,2):\n",
    "        print(i)\n",
    "        sum_no += i**2\n",
    "    \n",
    "print(sum_no)"
   ]
  },
  {
   "cell_type": "code",
   "execution_count": 47,
   "id": "b3712189",
   "metadata": {},
   "outputs": [
    {
     "ename": "SyntaxError",
     "evalue": "invalid syntax (3273310661.py, line 1)",
     "output_type": "error",
     "traceback": [
      "\u001b[1;36m  Cell \u001b[1;32mIn[47], line 1\u001b[1;36m\u001b[0m\n\u001b[1;33m    (sum(x) : for x in range(1,51))\u001b[0m\n\u001b[1;37m            ^\u001b[0m\n\u001b[1;31mSyntaxError\u001b[0m\u001b[1;31m:\u001b[0m invalid syntax\n"
     ]
    }
   ],
   "source": [
    "(sum(x)  for x in range(1,51))"
   ]
  },
  {
   "cell_type": "code",
   "execution_count": 65,
   "id": "1c9752de",
   "metadata": {},
   "outputs": [
    {
     "ename": "SyntaxError",
     "evalue": "invalid syntax (3132972021.py, line 5)",
     "output_type": "error",
     "traceback": [
      "\u001b[1;36m  Cell \u001b[1;32mIn[65], line 5\u001b[1;36m\u001b[0m\n\u001b[1;33m    elif:\u001b[0m\n\u001b[1;37m        ^\u001b[0m\n\u001b[1;31mSyntaxError\u001b[0m\u001b[1;31m:\u001b[0m invalid syntax\n"
     ]
    }
   ],
   "source": [
    "x = int(input())\n",
    "\n",
    "if x ==1:\n",
    "    print(\"it is not prime no and not non prime no\")\n",
    "else:\n",
    "    for i in range(2,x):\n",
    "        if x%i ==0: \n",
    "            print(\"it is not prime num\")\n",
    "            break\n",
    "print(\"it is  prime\")"
   ]
  },
  {
   "cell_type": "code",
   "execution_count": 66,
   "id": "d967398d",
   "metadata": {},
   "outputs": [
    {
     "name": "stdout",
     "output_type": "stream",
     "text": [
      "45\n",
      "It is not a prime number\n"
     ]
    }
   ],
   "source": [
    "x = int(input())\n",
    "\n",
    "if x == 1:\n",
    "    print(\"1 is a unique number that is neither prime nor composite\")\n",
    "elif x == 2:\n",
    "    print(\"2 is a prime number\")\n",
    "else:\n",
    "    is_prime = True\n",
    "    for i in range(2, int(x ** 0.5) + 1):\n",
    "        if x % i == 0:\n",
    "            is_prime = False\n",
    "            break\n",
    "\n",
    "    if is_prime:\n",
    "        print(\"It is a prime number\")\n",
    "    else:\n",
    "        print(\"It is not a prime number\")\n"
   ]
  },
  {
   "cell_type": "code",
   "execution_count": null,
   "id": "f3ede175",
   "metadata": {},
   "outputs": [],
   "source": []
  }
 ],
 "metadata": {
  "kernelspec": {
   "display_name": "Python 3 (ipykernel)",
   "language": "python",
   "name": "python3"
  },
  "language_info": {
   "codemirror_mode": {
    "name": "ipython",
    "version": 3
   },
   "file_extension": ".py",
   "mimetype": "text/x-python",
   "name": "python",
   "nbconvert_exporter": "python",
   "pygments_lexer": "ipython3",
   "version": "3.10.9"
  }
 },
 "nbformat": 4,
 "nbformat_minor": 5
}
